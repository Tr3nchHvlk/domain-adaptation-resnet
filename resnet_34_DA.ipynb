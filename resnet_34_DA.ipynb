{
 "cells": [
  {
   "attachments": {},
   "cell_type": "markdown",
   "metadata": {},
   "source": [
    "## Package Imports"
   ]
  },
  {
   "cell_type": "code",
   "execution_count": 1,
   "metadata": {},
   "outputs": [],
   "source": [
    "import torch \n",
    "from torch import optim\n",
    "from torch.optim import Optimizer\n",
    "from torch.nn import Linear, CrossEntropyLoss\n",
    "from torch.utils.data import TensorDataset, DataLoader\n",
    "\n",
    "import matplotlib.pyplot as plt\n",
    "from matplotlib.ticker import PercentFormatter\n",
    "\n",
    "from torchvision import transforms\n",
    "from torchvision.models import ResNet\n",
    "from torchvision.models import resnet34\n",
    "from torchvision.datasets import ImageFolder\n",
    "\n",
    "from numpy import log10, floor, power\n",
    "\n",
    "from PIL import Image"
   ]
  },
  {
   "attachments": {},
   "cell_type": "markdown",
   "metadata": {},
   "source": [
    "## Load the images data"
   ]
  },
  {
   "cell_type": "code",
   "execution_count": 2,
   "metadata": {},
   "outputs": [],
   "source": [
    "def pad_to_square(stock):\n",
    "    x, y = stock.size\n",
    "    d = max(x, y)\n",
    "    padded = Image.new(mode='RGB', size=(d, d), color=(255, 255, 255))\n",
    "    padded.paste(stock, ((d - x) // 2, (d - y) // 2))\n",
    "    return padded\n",
    "\n",
    "image_refactor = transforms.Compose([\n",
    "    transforms.Lambda(pad_to_square),\n",
    "    transforms.Resize((224, 224)),\n",
    "    transforms.ToTensor(),\n",
    "    transforms.Normalize(\n",
    "        mean=[0.485, 0.456, 0.406],\n",
    "        std=[0.229, 0.224, 0.225]\n",
    "    )\n",
    "])\n",
    "\n",
    "real_test_set = ImageFolder(root='./data/real_test', transform=image_refactor)\n",
    "real_train_set = ImageFolder(root='./data/real_train', transform=image_refactor)\n",
    "sketch_test_set = ImageFolder(root='./data/sketch_test', transform=image_refactor)\n",
    "sketch_train_set = ImageFolder(root='./data/sketch_train', transform=image_refactor)\n",
    "\n",
    "real_test_loader = DataLoader(real_test_set, batch_size=64, shuffle=True)\n",
    "real_train_loader = DataLoader(real_train_set, batch_size=64, shuffle=True)\n",
    "sketch_test_loader = DataLoader(sketch_test_set, batch_size=64, shuffle=True)\n",
    "sketch_train_loader = DataLoader(sketch_train_set, batch_size=64, shuffle=True)\n"
   ]
  },
  {
   "attachments": {},
   "cell_type": "markdown",
   "metadata": {},
   "source": [
    "## Define a function for training and validating"
   ]
  },
  {
   "cell_type": "code",
   "execution_count": 3,
   "metadata": {},
   "outputs": [],
   "source": [
    "def train_and_validate(\n",
    "    model: ResNet, \n",
    "    src_loader: DataLoader, \n",
    "    tar_loader: DataLoader, \n",
    "    val_loader: DataLoader, \n",
    "    optimizer: Optimizer,\n",
    "    loss_fn = CrossEntropyLoss(),\n",
    "    closs_weight: float = 1.0,\n",
    "    epochs: int = 1,\n",
    "    early_stop_margin: float = -1,\n",
    "    checkpoint_dir_prefix: str = None,\n",
    "):\n",
    "    model.train()\n",
    "    src_losses = []\n",
    "    src_accs = []\n",
    "    tar_losses = []\n",
    "    tar_accs = []\n",
    "    val_losses = []\n",
    "    val_accs = []\n",
    "    coral_losses = []\n",
    "    combined_losses = []\n",
    "    # loss_deltas = []\n",
    "    epochs_digits = int(floor(log10(epochs)) + 1)\n",
    "\n",
    "    for e in range(epochs):\n",
    "        r_loss = 0.0\n",
    "        src_losses.append(0.0)\n",
    "        tar_losses.append(0.0)\n",
    "        coral_losses.append(0.0)\n",
    "        combined_losses.append(0.0)\n",
    "        s_matches = 0\n",
    "        t_matches = 0\n",
    "        sy_dim = 0\n",
    "        ty_dim = 0\n",
    "\n",
    "        for i, ((sX, sy), (tX, ty)) in enumerate(zip(src_loader, tar_loader)):\n",
    "            if sX.size(0) == tX.size(0): # use CORAL loss if feature dimensions match\n",
    "                optimizer.zero_grad()\n",
    "\n",
    "                # features extration in source domain\n",
    "                sf = model.conv1(sX)\n",
    "                sf = model.bn1(sf)\n",
    "                sf = model.relu(sf)\n",
    "                sf = model.maxpool(sf)\n",
    "                sf = model.layer1(sf)\n",
    "                sf = model.layer2(sf)\n",
    "                sf = model.layer3(sf)\n",
    "                sf = model.layer4(sf)\n",
    "                sf = model.avgpool(sf)\n",
    "                sf = sf.view(sf.size(0), -1)\n",
    "\n",
    "                # features extration in target domain\n",
    "                tf = model.conv1(tX)\n",
    "                tf = model.bn1(tf)\n",
    "                tf = model.relu(tf)\n",
    "                tf = model.maxpool(tf)\n",
    "                tf = model.layer1(tf)\n",
    "                tf = model.layer2(tf)\n",
    "                tf = model.layer3(tf)\n",
    "                tf = model.layer4(tf)\n",
    "                tf = model.avgpool(tf)\n",
    "                tf = tf.view(tf.size(0), -1)\n",
    "\n",
    "                d = sf.size(0)\n",
    "\n",
    "                # compute the coral loss:\n",
    "                #     coral_loss = Frobenius norm (|Cs-Ct|) * (4d^2)\n",
    "                coral_loss = torch.float_power(\n",
    "                    torch.norm(\n",
    "                        torch.sub(torch.cov(sf), torch.cov(tf)), \n",
    "                        p='fro'\n",
    "                    ), \n",
    "                    2\n",
    "                ) / (4 * power(d, 2))\n",
    "\n",
    "                # final output of source domain\n",
    "                _sy_probs = model.fc(sf)\n",
    "\n",
    "                # base loss\n",
    "                s_loss = loss_fn(_sy_probs, sy)\n",
    "\n",
    "                # combined loss\n",
    "                combined_loss = s_loss + closs_weight * coral_loss\n",
    "\n",
    "                with torch.no_grad():\n",
    "                    _ty_probs = model.fc(tf)\n",
    "                    r_loss += combined_loss.item()\n",
    "                    src_losses[-1] += s_loss.item()\n",
    "                    coral_losses[-1] += coral_loss.item()\n",
    "                    combined_losses[-1] += combined_loss.item()\n",
    "                    tar_losses[-1] += loss_fn(_ty_probs, ty).item()\n",
    "\n",
    "                    _sy = _sy_probs.softmax(dim=1).argmax(dim=1)\n",
    "                    s_matches += (sy == _sy).sum().item()\n",
    "                    sy_dim += sy.size(0)\n",
    "                    _ty = _ty_probs.softmax(dim=1).argmax(dim=1)\n",
    "                    t_matches += (ty == _ty).sum().item()\n",
    "                    ty_dim += ty.size(0)\n",
    "\n",
    "                # backward pass using combined loss\n",
    "                combined_loss.backward()\n",
    "                optimizer.step()\n",
    "            else: # use base loss in case of mismatched feature dimensions\n",
    "                optimizer.zero_grad()\n",
    "                _sy_probs = model.forward(sX)\n",
    "                s_loss = loss_fn(_sy_probs, sy)\n",
    "\n",
    "                with torch.no_grad():\n",
    "                    r_loss += s_loss.item()\n",
    "                    _ty_probs = model.forward(tX)\n",
    "                    src_losses[-1] += s_loss.item()\n",
    "                    combined_losses[-1] += s_loss.item()\n",
    "                    tar_losses[-1] += loss_fn(_ty_probs, ty).item()\n",
    "                    \n",
    "                    _sy = _sy_probs.softmax(dim=1).argmax(dim=1)\n",
    "                    s_matches += (sy == _sy).sum().item()\n",
    "                    sy_dim += sy.size(0)\n",
    "                    _ty = _ty_probs.softmax(dim=1).argmax(dim=1)\n",
    "                    t_matches += (ty == _ty).sum().item()\n",
    "                    ty_dim += ty.size(0)\n",
    "\n",
    "                s_loss.backward()\n",
    "                optimizer.step()\n",
    "\n",
    "        if checkpoint_dir_prefix is not None:\n",
    "            torch.save(model.state_dict(), \"{}/{:0{}d}.pth\".format(checkpoint_dir_prefix, e, epochs_digits))\n",
    "\n",
    "        src_accs.append(s_matches / sy_dim)\n",
    "        tar_accs.append(t_matches / ty_dim)\n",
    "\n",
    "        # validation\n",
    "        with torch.no_grad():\n",
    "            val_losses.append(0.0)\n",
    "            matches = 0\n",
    "            y_dim = 0\n",
    "\n",
    "            for i, (X, y) in enumerate(val_loader):\n",
    "                _y_probs = model.forward(X)\n",
    "                val_losses[-1] += loss_fn(_y_probs, y).item()\n",
    "                _y = _y_probs.softmax(dim=1).argmax(dim=1)\n",
    "                matches += (y == _y).sum().item()\n",
    "                y_dim += y.size(0)\n",
    "\n",
    "            val_accs.append(matches / y_dim)\n",
    "\n",
    "        # early stopping alternative (on loss delta percentile)\n",
    "        # loss_delta = train_losses[-2] - train_losses[-1] if len(train_losses) > 1 else 0.0\n",
    "        # if (len(loss_deltas) > 0) and (loss_delta < (loss_deltas[-1] * early_stop_margin)):\n",
    "\n",
    "        # early stopping on loss delta\n",
    "        # will calculate the output for one extra iteration to document the performance of the final training cycle\n",
    "        if (len(combined_losses) > 1) and ((combined_losses[-2] - combined_losses[-1]) < early_stop_margin):\n",
    "\n",
    "            with torch.no_grad():\n",
    "                src_losses.append(0.0)\n",
    "                tar_losses.append(0.0)\n",
    "                coral_losses.append(0.0)\n",
    "                combined_losses.append(0.0)\n",
    "                s_matches = 0\n",
    "                t_matches = 0\n",
    "                sy_dim = 0\n",
    "                ty_dim = 0\n",
    "\n",
    "                for i, ((sX, sy), (tX, ty)) in enumerate(zip(src_loader, tar_loader)):\n",
    "                    if sX.size(0) == tX.size(0):\n",
    "                        # features extration in source domain\n",
    "                        sf = model.conv1(sX)\n",
    "                        sf = model.bn1(sf)\n",
    "                        sf = model.relu(sf)\n",
    "                        sf = model.maxpool(sf)\n",
    "                        sf = model.layer1(sf)\n",
    "                        sf = model.layer2(sf)\n",
    "                        sf = model.layer3(sf)\n",
    "                        sf = model.layer4(sf)\n",
    "                        sf = model.avgpool(sf)\n",
    "                        sf = sf.view(sf.size(0), -1)\n",
    "\n",
    "                        # features extration in target domain\n",
    "                        tf = model.conv1(tX)\n",
    "                        tf = model.bn1(tf)\n",
    "                        tf = model.relu(tf)\n",
    "                        tf = model.maxpool(tf)\n",
    "                        tf = model.layer1(tf)\n",
    "                        tf = model.layer2(tf)\n",
    "                        tf = model.layer3(tf)\n",
    "                        tf = model.layer4(tf)\n",
    "                        tf = model.avgpool(tf)\n",
    "                        tf = tf.view(tf.size(0), -1)\n",
    "\n",
    "                        d = sf.size(0)\n",
    "\n",
    "                        # coral loss:\n",
    "                        coral_loss = torch.float_power(\n",
    "                            torch.norm(\n",
    "                                torch.sub(torch.cov(sf), torch.cov(tf)), \n",
    "                                p='fro'\n",
    "                            ), \n",
    "                            2\n",
    "                        ) / (4 * power(d, 2))\n",
    "\n",
    "                        _sy_probs = model.fc(sf)\n",
    "\n",
    "                        # source loss\n",
    "                        s_loss = loss_fn(_sy_probs, sy)\n",
    "\n",
    "                        # combined loss\n",
    "                        combined_loss = s_loss + closs_weight * coral_loss\n",
    "\n",
    "                        _ty_probs = model.fc(tf)\n",
    "                        src_losses[-1] += s_loss.item()\n",
    "                        coral_losses[-1] += coral_loss.item()\n",
    "                        combined_losses[-1] += combined_loss.item()\n",
    "                        tar_losses[-1] += loss_fn(_ty_probs, ty).item()\n",
    "\n",
    "                        _sy = _sy_probs.softmax(dim=1).argmax(dim=1)\n",
    "                        s_matches += (sy == _sy).sum().item()\n",
    "                        sy_dim += sy.size(0)\n",
    "                        _ty = _ty_probs.softmax(dim=1).argmax(dim=1)\n",
    "                        t_matches += (ty == _ty).sum().item()\n",
    "                        ty_dim += ty.size(0)\n",
    "\n",
    "                    else:\n",
    "                        _sy_probs = model.forward(sX)\n",
    "                        s_loss = loss_fn(_sy_probs, sy)\n",
    "\n",
    "                        _ty_probs = model.forward(tX)\n",
    "                        src_losses[-1] += s_loss.item()\n",
    "                        combined_losses[-1] += s_loss.item()\n",
    "                        tar_losses[-1] += loss_fn(_ty_probs, ty).item()\n",
    "                        \n",
    "                        _sy = _sy_probs.softmax(dim=1).argmax(dim=1)\n",
    "                        s_matches += (sy == _sy).sum().item()\n",
    "                        sy_dim += sy.size(0)\n",
    "                        _ty = _ty_probs.softmax(dim=1).argmax(dim=1)\n",
    "                        t_matches += (ty == _ty).sum().item()\n",
    "                        ty_dim += ty.size(0)\n",
    "\n",
    "                src_accs.append(s_matches / sy_dim)\n",
    "                tar_accs.append(t_matches / ty_dim)\n",
    "\n",
    "            return {\n",
    "                \"model\": model,\n",
    "                \"src-losses\": src_losses[1:],\n",
    "                \"src-accs\": src_accs[1:],\n",
    "                \"tar-losses\": tar_losses[1:],\n",
    "                \"tar-accs\": tar_accs[1:],\n",
    "                \"val-losses\": val_losses,\n",
    "                \"val-accs\": val_accs,\n",
    "                \"coral-losses\": coral_losses[1:],\n",
    "                \"combined-losses\": combined_losses[1:],\n",
    "            }\n",
    "\n",
    "        # loss_deltas.append(loss_delta)\n",
    "\n",
    "    # calculating the output for one extra iteration to document the performance of the final training cycle\n",
    "    with torch.no_grad():\n",
    "        src_losses.append(0.0)\n",
    "        tar_losses.append(0.0)\n",
    "        coral_losses.append(0.0)\n",
    "        combined_losses.append(0.0)\n",
    "        s_matches = 0\n",
    "        t_matches = 0\n",
    "        sy_dim = 0\n",
    "        ty_dim = 0\n",
    "\n",
    "        for i, ((sX, sy), (tX, ty)) in enumerate(zip(src_loader, tar_loader)):\n",
    "            if sX.size(0) == tX.size(0):\n",
    "                # features extration in source domain\n",
    "                sf = model.conv1(sX)\n",
    "                sf = model.bn1(sf)\n",
    "                sf = model.relu(sf)\n",
    "                sf = model.maxpool(sf)\n",
    "                sf = model.layer1(sf)\n",
    "                sf = model.layer2(sf)\n",
    "                sf = model.layer3(sf)\n",
    "                sf = model.layer4(sf)\n",
    "                sf = model.avgpool(sf)\n",
    "                sf = sf.view(sf.size(0), -1)\n",
    "\n",
    "                # features extration in target domain\n",
    "                tf = model.conv1(tX)\n",
    "                tf = model.bn1(tf)\n",
    "                tf = model.relu(tf)\n",
    "                tf = model.maxpool(tf)\n",
    "                tf = model.layer1(tf)\n",
    "                tf = model.layer2(tf)\n",
    "                tf = model.layer3(tf)\n",
    "                tf = model.layer4(tf)\n",
    "                tf = model.avgpool(tf)\n",
    "                tf = tf.view(tf.size(0), -1)\n",
    "\n",
    "                d = sf.size(0)\n",
    "\n",
    "                # coral loss:\n",
    "                coral_loss = torch.float_power(\n",
    "                    torch.norm(\n",
    "                        torch.sub(torch.cov(sf), torch.cov(tf)), \n",
    "                        p='fro'\n",
    "                    ), \n",
    "                    2\n",
    "                ) / (4 * power(d, 2))\n",
    "\n",
    "                _sy_probs = model.fc(sf)\n",
    "\n",
    "                # source loss\n",
    "                s_loss = loss_fn(_sy_probs, sy)\n",
    "\n",
    "                # combined loss\n",
    "                combined_loss = s_loss + closs_weight * coral_loss\n",
    "\n",
    "                _ty_probs = model.fc(tf)\n",
    "                src_losses[-1] += s_loss.item()\n",
    "                coral_losses[-1] += coral_loss.item()\n",
    "                combined_losses[-1] += combined_loss.item()\n",
    "                tar_losses[-1] += loss_fn(_ty_probs, ty).item()\n",
    "\n",
    "                _sy = _sy_probs.softmax(dim=1).argmax(dim=1)\n",
    "                s_matches += (sy == _sy).sum().item()\n",
    "                sy_dim += sy.size(0)\n",
    "                _ty = _ty_probs.softmax(dim=1).argmax(dim=1)\n",
    "                t_matches += (ty == _ty).sum().item()\n",
    "                ty_dim += ty.size(0)\n",
    "\n",
    "            else:\n",
    "                _sy_probs = model.forward(sX)\n",
    "                s_loss = loss_fn(_sy_probs, sy)\n",
    "\n",
    "                _ty_probs = model.forward(tX)\n",
    "                src_losses[-1] += s_loss.item()\n",
    "                combined_losses[-1] += s_loss.item()\n",
    "                tar_losses[-1] += loss_fn(_ty_probs, ty).item()\n",
    "                \n",
    "                _sy = _sy_probs.softmax(dim=1).argmax(dim=1)\n",
    "                s_matches += (sy == _sy).sum().item()\n",
    "                sy_dim += sy.size(0)\n",
    "                _ty = _ty_probs.softmax(dim=1).argmax(dim=1)\n",
    "                t_matches += (ty == _ty).sum().item()\n",
    "                ty_dim += ty.size(0)\n",
    "\n",
    "        src_accs.append(s_matches / sy_dim)\n",
    "        tar_accs.append(t_matches / ty_dim)\n",
    "    \n",
    "    return {\n",
    "        \"model\": model,\n",
    "        \"src-losses\": src_losses[1:],\n",
    "        \"src-accs\": src_accs[1:],\n",
    "        \"tar-losses\": tar_losses[1:],\n",
    "        \"tar-accs\": tar_accs[1:],\n",
    "        \"val-losses\": val_losses,\n",
    "        \"val-accs\": val_accs,\n",
    "        \"coral-losses\": coral_losses[1:],\n",
    "        \"combined-losses\": combined_losses[1:],\n",
    "    }\n"
   ]
  },
  {
   "attachments": {},
   "cell_type": "markdown",
   "metadata": {},
   "source": [
    "## Train the domain adaptation model on real domain with reference of sketch domain for sketch domain"
   ]
  },
  {
   "cell_type": "code",
   "execution_count": 4,
   "metadata": {},
   "outputs": [
    {
     "name": "stderr",
     "output_type": "stream",
     "text": [
      "c:\\Program Files\\Python39\\lib\\site-packages\\torchvision\\models\\_utils.py:208: UserWarning: The parameter 'pretrained' is deprecated since 0.13 and may be removed in the future, please use 'weights' instead.\n",
      "  warnings.warn(\n",
      "c:\\Program Files\\Python39\\lib\\site-packages\\torchvision\\models\\_utils.py:223: UserWarning: Arguments other than a weight enum or `None` for 'weights' are deprecated since 0.13 and may be removed in the future. The current behavior is equivalent to passing `weights=ResNet34_Weights.IMAGENET1K_V1`. You can also use `weights=ResNet34_Weights.DEFAULT` to get the most up-to-date weights.\n",
      "  warnings.warn(msg)\n"
     ]
    }
   ],
   "source": [
    "r34_real = resnet34(pretrained=True)\n",
    "r34_real.fc = Linear(in_features=r34_real.fc.in_features, out_features=10)\n",
    "\n",
    "# model, train_losses, train_accuracies, test_losses, test_accuracies\n",
    "r34_real_metrics = \\\n",
    "    train_and_validate(\n",
    "        r34_real, \n",
    "        real_train_loader, \n",
    "        sketch_train_loader, \n",
    "        sketch_test_loader, \n",
    "        optimizer=optim.SGD(r34_real.parameters(), lr=0.005, momentum=0.9), \n",
    "        closs_weight=10.0,\n",
    "        epochs=100, \n",
    "        early_stop_margin=0.1,\n",
    "        checkpoint_dir_prefix=\"./checkpoints/real-r34-DA\"\n",
    "    )"
   ]
  },
  {
   "attachments": {},
   "cell_type": "markdown",
   "metadata": {},
   "source": [
    "## Model performance graphs"
   ]
  },
  {
   "cell_type": "code",
   "execution_count": 5,
   "metadata": {},
   "outputs": [
    {
     "data": {
      "text/plain": [
       "<Figure size 432x288 with 0 Axes>"
      ]
     },
     "metadata": {},
     "output_type": "display_data"
    },
    {
     "data": {
      "image/png": "[encoded data removed]",
      "text/plain": [
       "<Figure size 1008x576 with 1 Axes>"
      ]
     },
     "metadata": {
      "needs_background": "light"
     },
     "output_type": "display_data"
    }
   ],
   "source": [
    "plt.clf()\n",
    "\n",
    "epochs = range(1, len(r34_real_metrics[\"src-losses\"]) + 1)\n",
    "\n",
    "fig, canvas = plt.subplots(1, 1, figsize=(14, 8))\n",
    "\n",
    "canvas.plot(epochs, r34_real_metrics[\"src-losses\"], color=(255/255, 150/255, 69/255), label=\"Source Losses\")\n",
    "canvas.plot(epochs, r34_real_metrics[\"coral-losses\"], color=(249/255, 197/255, 95/255), label=\"Coral Losses\")\n",
    "canvas.plot(epochs, r34_real_metrics[\"combined-losses\"], color=(142/255, 170/255, 251/255), label=\"Combined Losses\")\n",
    "canvas.plot(epochs, r34_real_metrics[\"tar-losses\"], color=(255/255, 129/255, 131/255), label=\"Target Losses\")\n",
    "canvas.plot(epochs, r34_real_metrics[\"val-losses\"], color=(162/255, 231/255, 115/255), label=\"Test Losses\")\n",
    "canvas.set_title(\"Losses\")\n",
    "canvas.set_xlabel(\"Epoch\")\n",
    "canvas.set_ylabel(\"Loss\")\n",
    "canvas.set_xticks(epochs)\n",
    "canvas.legend(loc=\"upper right\")\n",
    "\n",
    "plt.savefig(\"./fig/real-r34-DA-losses.jpg\")"
   ]
  },
  {
   "cell_type": "code",
   "execution_count": 6,
   "metadata": {},
   "outputs": [
    {
     "data": {
      "text/plain": [
       "<Figure size 432x288 with 0 Axes>"
      ]
     },
     "metadata": {},
     "output_type": "display_data"
    },
    {
     "data": {
      "image/png": "[encoded data removed]",
      "text/plain": [
       "<Figure size 1008x576 with 1 Axes>"
      ]
     },
     "metadata": {
      "needs_background": "light"
     },
     "output_type": "display_data"
    }
   ],
   "source": [
    "plt.clf()\n",
    "\n",
    "fig, canvas = plt.subplots(1, 1, figsize=(14, 8))\n",
    "\n",
    "canvas.plot(epochs, r34_real_metrics[\"src-accs\"], color=(255/255, 150/255, 69/255), label=\"Source Accuracies\")\n",
    "canvas.plot(epochs, r34_real_metrics[\"tar-accs\"], color=(255/255, 129/255, 131/255), label=\"Target Accuracies\")\n",
    "canvas.plot(epochs, r34_real_metrics[\"val-accs\"], color=(162/255, 231/255, 115/255), label=\"Test Accuracies\")\n",
    "canvas.set_title(\"Accuracies\")\n",
    "canvas.set_xlabel(\"Epoch\")\n",
    "canvas.set_ylabel(\"Accuracy\")\n",
    "canvas.legend(loc=\"upper right\")\n",
    "\n",
    "canvas.set_xticks(epochs)\n",
    "canvas.yaxis.set_major_formatter(PercentFormatter(1.0))\n",
    "\n",
    "plt.savefig(\"./fig/real-r34-DA-accs.jpg\")\n"
   ]
  },
  {
   "cell_type": "code",
   "execution_count": 10,
   "metadata": {},
   "outputs": [
    {
     "data": {
      "text/plain": [
       "[3.1740754451602697,\n",
       " 2.418297840282321,\n",
       " 1.6051496751606464,\n",
       " 0.8306093094870448,\n",
       " 0.708992650732398,\n",
       " 0.3726369347423315,\n",
       " 0.3334791879169643,\n",
       " 0.31387414783239365]"
      ]
     },
     "execution_count": 10,
     "metadata": {},
     "output_type": "execute_result"
    }
   ],
   "source": [
    "r34_real_metrics[\"src-losses\"]"
   ]
  },
  {
   "cell_type": "code",
   "execution_count": 14,
   "metadata": {},
   "outputs": [
    {
     "data": {
      "text/plain": [
       "[0.9747983870967742,\n",
       " 0.9793346774193549,\n",
       " 0.9879032258064516,\n",
       " 0.9944556451612904,\n",
       " 0.9969758064516129,\n",
       " 0.9994959677419355,\n",
       " 0.998991935483871,\n",
       " 1.0]"
      ]
     },
     "execution_count": 14,
     "metadata": {},
     "output_type": "execute_result"
    }
   ],
   "source": [
    "r34_real_metrics[\"src-accs\"]"
   ]
  },
  {
   "cell_type": "code",
   "execution_count": 9,
   "metadata": {},
   "outputs": [
    {
     "data": {
      "text/plain": [
       "[43.50679159164429,\n",
       " 39.69615924358368,\n",
       " 45.6407744884491,\n",
       " 41.21449691057205,\n",
       " 44.45724868774414,\n",
       " 43.72683399915695,\n",
       " 44.00945317745209,\n",
       " 43.11542224884033]"
      ]
     },
     "execution_count": 9,
     "metadata": {},
     "output_type": "execute_result"
    }
   ],
   "source": [
    "r34_real_metrics[\"tar-losses\"]"
   ]
  },
  {
   "cell_type": "code",
   "execution_count": 13,
   "metadata": {},
   "outputs": [
    {
     "data": {
      "text/plain": [
       "[0.6088957055214724,\n",
       " 0.6303680981595092,\n",
       " 0.5807770961145194,\n",
       " 0.6160531697341514,\n",
       " 0.593558282208589,\n",
       " 0.5940695296523517,\n",
       " 0.5899795501022495,\n",
       " 0.6002044989775052]"
      ]
     },
     "execution_count": 13,
     "metadata": {},
     "output_type": "execute_result"
    }
   ],
   "source": [
    "r34_real_metrics[\"tar-accs\"]"
   ]
  },
  {
   "cell_type": "code",
   "execution_count": 12,
   "metadata": {},
   "outputs": [
    {
     "data": {
      "text/plain": [
       "[20.226078391075134,\n",
       " 18.799829840660095,\n",
       " 19.47462522983551,\n",
       " 18.341548204421997,\n",
       " 19.271141409873962,\n",
       " 19.297446608543396,\n",
       " 20.97295093536377,\n",
       " 18.301976323127747]"
      ]
     },
     "execution_count": 12,
     "metadata": {},
     "output_type": "execute_result"
    }
   ],
   "source": [
    "r34_real_metrics[\"val-losses\"]"
   ]
  },
  {
   "cell_type": "code",
   "execution_count": 11,
   "metadata": {},
   "outputs": [
    {
     "data": {
      "text/plain": [
       "[0.6147443519619501,\n",
       " 0.6302021403091558,\n",
       " 0.6004756242568371,\n",
       " 0.6111771700356718,\n",
       " 0.619500594530321,\n",
       " 0.5897740784780023,\n",
       " 0.6028537455410226,\n",
       " 0.6123662306777645]"
      ]
     },
     "execution_count": 11,
     "metadata": {},
     "output_type": "execute_result"
    }
   ],
   "source": [
    "r34_real_metrics[\"val-accs\"]"
   ]
  },
  {
   "cell_type": "code",
   "execution_count": 7,
   "metadata": {},
   "outputs": [
    {
     "data": {
      "text/plain": [
       "[0.1949712832809073,\n",
       " 0.12400864711863285,\n",
       " 0.11100883204272062,\n",
       " 0.10062139783642096,\n",
       " 0.08919049739154407,\n",
       " 0.08119776276525882,\n",
       " 0.07601985600193492,\n",
       " 0.07375496185814051]"
      ]
     },
     "execution_count": 7,
     "metadata": {},
     "output_type": "execute_result"
    }
   ],
   "source": [
    "r34_real_metrics[\"coral-losses\"]"
   ]
  },
  {
   "cell_type": "code",
   "execution_count": 8,
   "metadata": {},
   "outputs": [
    {
     "data": {
      "text/plain": [
       "[5.123788277969343,\n",
       " 3.6583843114686485,\n",
       " 2.7152379955878523,\n",
       " 1.8368232878512551,\n",
       " 1.600897624647839,\n",
       " 1.1846145623949194,\n",
       " 1.0936777479363133,\n",
       " 1.0514237664137984]"
      ]
     },
     "execution_count": 8,
     "metadata": {},
     "output_type": "execute_result"
    }
   ],
   "source": [
    "r34_real_metrics[\"combined-losses\"]"
   ]
  }
 ],
 "metadata": {
  "kernelspec": {
   "display_name": "Python 3",
   "language": "python",
   "name": "python3"
  },
  "language_info": {
   "codemirror_mode": {
    "name": "ipython",
    "version": 3
   },
   "file_extension": ".py",
   "mimetype": "text/x-python",
   "name": "python",
   "nbconvert_exporter": "python",
   "pygments_lexer": "ipython3",
   "version": "3.9.4"
  },
  "orig_nbformat": 4
 },
 "nbformat": 4,
 "nbformat_minor": 2
}
