{
 "cells": [
  {
   "attachments": {},
   "cell_type": "markdown",
   "metadata": {},
   "source": [
    "## Package Imports"
   ]
  },
  {
   "cell_type": "code",
   "execution_count": 14,
   "metadata": {},
   "outputs": [],
   "source": [
    "import torch \n",
    "from torch import optim\n",
    "from torch.optim import Optimizer\n",
    "from torch.nn import Linear, CrossEntropyLoss\n",
    "from torch.utils.data import TensorDataset, DataLoader\n",
    "\n",
    "import matplotlib.pyplot as plt\n",
    "from matplotlib.ticker import PercentFormatter\n",
    "\n",
    "from torchvision import transforms\n",
    "from torchvision.models import ResNet\n",
    "from torchvision.models import resnet34\n",
    "from torchvision.datasets import ImageFolder\n",
    "\n",
    "from numpy import log10, floor\n",
    "\n",
    "from PIL import Image"
   ]
  },
  {
   "attachments": {},
   "cell_type": "markdown",
   "metadata": {},
   "source": [
    "## Load the images data"
   ]
  },
  {
   "cell_type": "code",
   "execution_count": 15,
   "metadata": {},
   "outputs": [],
   "source": [
    "def pad_to_square(stock):\n",
    "    x, y = stock.size\n",
    "    d = max(x, y)\n",
    "    padded = Image.new(mode='RGB', size=(d, d), color=(255, 255, 255))\n",
    "    padded.paste(stock, ((d - x) // 2, (d - y) // 2))\n",
    "    return padded\n",
    "\n",
    "image_refactor = transforms.Compose([\n",
    "    transforms.Lambda(pad_to_square),\n",
    "    transforms.Resize((224, 224)),\n",
    "    transforms.ToTensor(),\n",
    "    transforms.Normalize(\n",
    "        mean=[0.485, 0.456, 0.406],\n",
    "        std=[0.229, 0.224, 0.225]\n",
    "    )\n",
    "])\n",
    "\n",
    "real_test_set = ImageFolder(root='./data/real_test', transform=image_refactor)\n",
    "real_train_set = ImageFolder(root='./data/real_train', transform=image_refactor)\n",
    "sketch_test_set = ImageFolder(root='./data/sketch_test', transform=image_refactor)\n",
    "sketch_train_set = ImageFolder(root='./data/sketch_train', transform=image_refactor)\n",
    "\n",
    "real_test_loader = DataLoader(real_test_set, batch_size=64, shuffle=True)\n",
    "real_train_loader = DataLoader(real_train_set, batch_size=64, shuffle=True)\n",
    "sketch_test_loader = DataLoader(sketch_test_set, batch_size=64, shuffle=True)\n",
    "sketch_train_loader = DataLoader(sketch_train_set, batch_size=64, shuffle=True)\n"
   ]
  },
  {
   "attachments": {},
   "cell_type": "markdown",
   "metadata": {},
   "source": [
    "## Define the `train()` function"
   ]
  },
  {
   "cell_type": "code",
   "execution_count": 16,
   "metadata": {},
   "outputs": [],
   "source": [
    "def train(\n",
    "    model: ResNet, \n",
    "    src_loader: DataLoader, \n",
    "    optimizer: Optimizer,\n",
    "    loss_fn = CrossEntropyLoss(),\n",
    "    epochs: int = 1,\n",
    "    early_stop_delta: float = -1,\n",
    "    checkpoint_dir_prefix: str = None,\n",
    "):\n",
    "    model.train()\n",
    "    train_losses = []\n",
    "    train_accs = []\n",
    "    epochs_digits = int(floor(log10(epochs)) + 1)\n",
    "\n",
    "    # iterate over number of epochs / training iterations\n",
    "    for e in range(epochs):\n",
    "        r_loss = 0.0\n",
    "        train_loss = 0.0\n",
    "        correct_matches = 0\n",
    "        y_dim = 0\n",
    "\n",
    "        # iterate over batches\n",
    "        for i, (X, y) in enumerate(src_loader):\n",
    "            # reset optimizer\n",
    "            optimizer.zero_grad()\n",
    "\n",
    "            # perform the forward pass\n",
    "            _y_probs = model.forward(X)\n",
    "\n",
    "            # calculate the loss\n",
    "            loss = loss_fn(_y_probs, y)\n",
    "\n",
    "            with torch.no_grad():\n",
    "                r_loss += loss.item()\n",
    "                train_loss += loss.item()\n",
    "                _y = _y_probs.softmax(dim=1).argmax(dim=1)\n",
    "                correct_matches += (y == _y).sum().item()\n",
    "                y_dim += y.size(0)\n",
    "\n",
    "            # perform the backward pass\n",
    "            loss.backward()\n",
    "\n",
    "            # perform a gradient optimization\n",
    "            optimizer.step()\n",
    "\n",
    "        if checkpoint_dir_prefix is not None:\n",
    "            torch.save(model.state_dict(), \"{}/{:0{}d}.pth\".format(checkpoint_dir_prefix, e, epochs_digits))\n",
    "\n",
    "        train_accs.append(correct_matches / y_dim)\n",
    "\n",
    "        # early stopping: will calculate the output for one extra iteration to document the performance of the final training cycle\n",
    "        if (len(train_losses) > 0) and ((train_losses[-1] - train_loss) < (train_losses[-1] * early_stop_delta)):\n",
    "            train_losses.append(train_loss)\n",
    "\n",
    "            with torch.no_grad():\n",
    "                train_losses.append(0.0)\n",
    "                correct_matches = 0\n",
    "                y_dim = 0\n",
    "\n",
    "                for i, (X, y) in enumerate(src_loader):\n",
    "                    _y_probs = model.forward(X)\n",
    "                    train_losses[-1] += loss_fn(_y_probs, y).item()\n",
    "                    _y = _y_probs.softmax(dim=1).argmax(dim=1)\n",
    "                    correct_matches += (y == _y).sum().item()\n",
    "                    y_dim += y.size(0)\n",
    "\n",
    "                train_accs.append(correct_matches / y_dim)\n",
    "            \n",
    "            return (model, train_losses[1:], train_accs[1:])\n",
    "\n",
    "        train_losses.append(train_loss)\n",
    "\n",
    "    # calculating the output for one extra iteration to document the performance of the final training cycle\n",
    "    with torch.no_grad():\n",
    "        train_losses.append(0.0)\n",
    "        correct_matches = 0\n",
    "        y_dim = 0\n",
    "\n",
    "        for i, (X, y) in enumerate(src_loader):\n",
    "            _y_probs = model.forward(X)\n",
    "            train_losses[-1] += loss_fn(_y_probs, y).item()\n",
    "            _y = _y_probs.softmax(dim=1).argmax(dim=1)\n",
    "            correct_matches += (y == _y).sum().item()\n",
    "            y_dim += y.size(0)\n",
    "\n",
    "        train_accs.append(correct_matches / y_dim)\n",
    "    \n",
    "    return (model, train_losses[1:], train_accs[1:])"
   ]
  },
  {
   "attachments": {},
   "cell_type": "markdown",
   "metadata": {},
   "source": [
    "## Define the `test()` function"
   ]
  },
  {
   "cell_type": "code",
   "execution_count": 17,
   "metadata": {},
   "outputs": [],
   "source": [
    "def test(\n",
    "    model: ResNet, \n",
    "    src_loader: DataLoader, \n",
    "    loss_fn = CrossEntropyLoss()\n",
    "):\n",
    "    model.eval()\n",
    "\n",
    "    test_loss = 0.0\n",
    "    test_acc = 0.0\n",
    "\n",
    "    correct_matches = 0\n",
    "    y_dim = 0\n",
    "\n",
    "    for i, (X, y) in enumerate(src_loader):\n",
    "        _y_probs = model.forward(X)\n",
    "        test_loss += loss_fn(_y_probs, y).item()\n",
    "        _y = _y_probs.softmax(dim=1).argmax(dim=1)\n",
    "        correct_matches += (y == _y).sum().item()\n",
    "        y_dim += y.size(0)\n",
    "\n",
    "    test_acc = correct_matches / y_dim\n",
    "\n",
    "    return (test_loss, test_acc)"
   ]
  },
  {
   "attachments": {},
   "cell_type": "markdown",
   "metadata": {},
   "source": [
    "## Define a function for training and validating"
   ]
  },
  {
   "cell_type": "code",
   "execution_count": 18,
   "metadata": {},
   "outputs": [],
   "source": [
    "def train_and_validate(\n",
    "    model: ResNet, \n",
    "    src_loader: DataLoader, \n",
    "    val_loader: DataLoader, \n",
    "    optimizer: Optimizer,\n",
    "    loss_fn = CrossEntropyLoss(),\n",
    "    epochs: int = 1,\n",
    "    early_stop_margin: float = -1,\n",
    "    checkpoint_dir_prefix: str = None,\n",
    "):\n",
    "    model.train()\n",
    "    train_losses = []\n",
    "    train_accs = []\n",
    "    val_losses = []\n",
    "    val_accs = []\n",
    "    # loss_deltas = []\n",
    "    epochs_digits = int(floor(log10(epochs)) + 1)\n",
    "\n",
    "    # training iterations\n",
    "    for e in range(epochs):\n",
    "        r_loss = 0.0\n",
    "        train_losses.append(0.0)\n",
    "        correct_matches = 0\n",
    "        y_dim = 0\n",
    "\n",
    "        # iterate over batches\n",
    "        for i, (X, y) in enumerate(src_loader):\n",
    "            optimizer.zero_grad()\n",
    "\n",
    "            # forward pass\n",
    "            _y_probs = model.forward(X)\n",
    "            \n",
    "            # loss\n",
    "            loss = loss_fn(_y_probs, y)\n",
    "\n",
    "            with torch.no_grad():\n",
    "                r_loss += loss.item()\n",
    "                train_losses[-1] += loss.item()\n",
    "                _y = _y_probs.softmax(dim=1).argmax(dim=1)\n",
    "                correct_matches += (y == _y).sum().item()\n",
    "                y_dim += y.size(0)\n",
    "\n",
    "            # backward pass\n",
    "            loss.backward()\n",
    "            optimizer.step()\n",
    "\n",
    "        if checkpoint_dir_prefix is not None:\n",
    "            torch.save(model.state_dict(), \"{}/{:0{}d}.pth\".format(checkpoint_dir_prefix, e, epochs_digits))\n",
    "\n",
    "        train_accs.append(correct_matches / y_dim)\n",
    "\n",
    "        # validation\n",
    "        with torch.no_grad():\n",
    "            val_losses.append(0.0)\n",
    "            correct_matches = 0\n",
    "            y_dim = 0\n",
    "\n",
    "            for i, (X, y) in enumerate(val_loader):\n",
    "                _y_probs = model.forward(X)\n",
    "                val_losses[-1] += loss_fn(_y_probs, y).item()\n",
    "                _y = _y_probs.softmax(dim=1).argmax(dim=1)\n",
    "                correct_matches += (y == _y).sum().item()\n",
    "                y_dim += y.size(0)\n",
    "\n",
    "            val_accs.append(correct_matches / y_dim)\n",
    "\n",
    "        # early stopping alternative (on loss delta percentile)\n",
    "        # loss_delta = train_losses[-2] - train_losses[-1] if len(train_losses) > 1 else 0.0\n",
    "        # if (len(loss_deltas) > 0) and (loss_delta < (loss_deltas[-1] * early_stop_margin)):\n",
    "\n",
    "        # early stopping on loss delta\n",
    "        # will calculate the output for one extra iteration to document the performance of the final training cycle\n",
    "        if (len(train_losses) > 1) and ((train_losses[-2] - train_losses[-1]) < early_stop_margin):\n",
    "\n",
    "            with torch.no_grad():\n",
    "                train_losses.append(0.0)\n",
    "                correct_matches = 0\n",
    "                y_dim = 0\n",
    "\n",
    "                for i, (X, y) in enumerate(src_loader):\n",
    "                    _y_probs = model.forward(X)\n",
    "                    train_losses[-1] += loss_fn(_y_probs, y).item()\n",
    "                    _y = _y_probs.softmax(dim=1).argmax(dim=1)\n",
    "                    correct_matches += (y == _y).sum().item()\n",
    "                    y_dim += y.size(0)\n",
    "\n",
    "                train_accs.append(correct_matches / y_dim)\n",
    "            \n",
    "            return {\n",
    "                \"model\": model,\n",
    "                \"train-losses\": train_losses[1:],\n",
    "                \"train-accs\": train_accs[1:],\n",
    "                \"val-losses\": val_losses,\n",
    "                \"val-accs\": val_accs,\n",
    "            }\n",
    "\n",
    "        # loss_deltas.append(loss_delta)\n",
    "\n",
    "    # calculating the output for one extra iteration to document the performance of the final training cycle\n",
    "    with torch.no_grad():\n",
    "        train_losses.append(0.0)\n",
    "        correct_matches = 0\n",
    "        y_dim = 0\n",
    "\n",
    "        for i, (X, y) in enumerate(src_loader):\n",
    "            _y_probs = model.forward(X)\n",
    "            train_losses[-1] += loss_fn(_y_probs, y).item()\n",
    "            _y = _y_probs.softmax(dim=1).argmax(dim=1)\n",
    "            correct_matches += (y == _y).sum().item()\n",
    "            y_dim += y.size(0)\n",
    "\n",
    "        train_accs.append(correct_matches / y_dim)\n",
    "    \n",
    "    return {\n",
    "        \"model\": model,\n",
    "        \"train-losses\": train_losses[1:],\n",
    "        \"train-accs\": train_accs[1:],\n",
    "        \"val-losses\": val_losses,\n",
    "        \"val-accs\": val_accs,\n",
    "    }"
   ]
  },
  {
   "attachments": {},
   "cell_type": "markdown",
   "metadata": {},
   "source": [
    "## Train a model on sketch domain for sketch domain"
   ]
  },
  {
   "cell_type": "code",
   "execution_count": 19,
   "metadata": {},
   "outputs": [
    {
     "name": "stderr",
     "output_type": "stream",
     "text": [
      "c:\\Program Files\\Python39\\lib\\site-packages\\torchvision\\models\\_utils.py:208: UserWarning: The parameter 'pretrained' is deprecated since 0.13 and may be removed in the future, please use 'weights' instead.\n",
      "  warnings.warn(\n",
      "c:\\Program Files\\Python39\\lib\\site-packages\\torchvision\\models\\_utils.py:223: UserWarning: Arguments other than a weight enum or `None` for 'weights' are deprecated since 0.13 and may be removed in the future. The current behavior is equivalent to passing `weights=ResNet34_Weights.IMAGENET1K_V1`. You can also use `weights=ResNet34_Weights.DEFAULT` to get the most up-to-date weights.\n",
      "  warnings.warn(msg)\n"
     ]
    }
   ],
   "source": [
    "r34_sketch = resnet34(pretrained=True)\n",
    "r34_sketch.fc = Linear(in_features=r34_sketch.fc.in_features, out_features=10)\n",
    "\n",
    "# model, train_losses, train_accuracies, test_losses, test_accuracies\n",
    "r34_sketch_metrics = \\\n",
    "    train_and_validate(\n",
    "        r34_sketch, \n",
    "        sketch_train_loader, \n",
    "        sketch_test_loader, \n",
    "        optimizer=optim.SGD(r34_sketch.parameters(), lr=0.005, momentum=0.9), \n",
    "        epochs=100, \n",
    "        early_stop_margin=0.1,\n",
    "        checkpoint_dir_prefix=\"./checkpoints/sketch-r34\"\n",
    "    )"
   ]
  },
  {
   "attachments": {},
   "cell_type": "markdown",
   "metadata": {},
   "source": [
    "## Train a model on real domain for sketch domain"
   ]
  },
  {
   "cell_type": "code",
   "execution_count": 20,
   "metadata": {},
   "outputs": [],
   "source": [
    "r34_real = resnet34(pretrained=True)\n",
    "r34_real.fc = Linear(in_features=r34_real.fc.in_features, out_features=10)\n",
    "\n",
    "# model, train_losses, train_accuracies, test_losses, test_accuracies\n",
    "r34_real_metrics = \\\n",
    "    train_and_validate(\n",
    "        r34_real, \n",
    "        real_train_loader, \n",
    "        sketch_test_loader, \n",
    "        optimizer=optim.SGD(r34_real.parameters(), lr=0.005, momentum=0.9), \n",
    "        epochs=100, \n",
    "        early_stop_margin=0.1,\n",
    "        checkpoint_dir_prefix=\"./checkpoints/real-r34\"\n",
    "    )"
   ]
  },
  {
   "attachments": {},
   "cell_type": "markdown",
   "metadata": {},
   "source": [
    "## Model performance graphs"
   ]
  },
  {
   "cell_type": "code",
   "execution_count": 45,
   "metadata": {},
   "outputs": [
    {
     "data": {
      "text/plain": [
       "<Figure size 432x288 with 0 Axes>"
      ]
     },
     "metadata": {},
     "output_type": "display_data"
    },
    {
     "data": {
      "image/png": "[encoded data removed]",
      "text/plain": [
       "<Figure size 1008x576 with 1 Axes>"
      ]
     },
     "metadata": {
      "needs_background": "light"
     },
     "output_type": "display_data"
    }
   ],
   "source": [
    "plt.clf()\n",
    "epochs = range(1, len(r34_sketch_metrics[\"train-losses\"]) + 1)\n",
    "\n",
    "fig, canvas = plt.subplots(1, 1, figsize=(14, 8))\n",
    "\n",
    "canvas.plot(epochs, r34_sketch_metrics[\"train-losses\"], color=(255/255, 150/255, 69/255), label=\"Train Losses\")\n",
    "canvas.plot(epochs, r34_sketch_metrics[\"val-losses\"], color=(255/255, 129/255, 131/255), label=\"Test Losses\")\n",
    "canvas.set_title(\"Training vs Testing Losses\")\n",
    "canvas.set_xlabel(\"Epoch\")\n",
    "canvas.set_ylabel(\"Loss\")\n",
    "canvas.set_xticks(epochs)\n",
    "canvas.legend(loc=\"upper right\")\n",
    "\n",
    "plt.savefig(\"./fig/sketch-r34-losses.jpg\")\n"
   ]
  },
  {
   "cell_type": "code",
   "execution_count": 46,
   "metadata": {},
   "outputs": [
    {
     "data": {
      "text/plain": [
       "<Figure size 432x288 with 0 Axes>"
      ]
     },
     "metadata": {},
     "output_type": "display_data"
    },
    {
     "data": {
      "image/png": "[encoded data removed]",
      "text/plain": [
       "<Figure size 1008x576 with 1 Axes>"
      ]
     },
     "metadata": {
      "needs_background": "light"
     },
     "output_type": "display_data"
    }
   ],
   "source": [
    "plt.clf()\n",
    "\n",
    "fig, canvas = plt.subplots(1, 1, figsize=(14, 8))\n",
    "\n",
    "canvas.plot(epochs, r34_sketch_metrics[\"train-accs\"], color=(255/255, 150/255, 69/255), label=\"Train Accuracies\")\n",
    "canvas.plot(epochs, r34_sketch_metrics[\"val-accs\"], color=(255/255, 129/255, 131/255), label=\"Test Accuracies\")\n",
    "canvas.set_title(\"Training vs Testing Accuracies\")\n",
    "canvas.set_xlabel(\"Epoch\")\n",
    "canvas.set_ylabel(\"Accuracy\")\n",
    "\n",
    "canvas.set_xticks(epochs)\n",
    "canvas.yaxis.set_major_formatter(PercentFormatter(1.0))\n",
    "canvas.legend(loc=\"upper right\")\n",
    "\n",
    "plt.savefig(\"./fig/sketch-r34-accs.jpg\")\n"
   ]
  },
  {
   "cell_type": "code",
   "execution_count": 47,
   "metadata": {},
   "outputs": [
    {
     "data": {
      "text/plain": [
       "<Figure size 432x288 with 0 Axes>"
      ]
     },
     "metadata": {},
     "output_type": "display_data"
    },
    {
     "data": {
      "image/png": "[encoded data removed]",
      "text/plain": [
       "<Figure size 1008x576 with 1 Axes>"
      ]
     },
     "metadata": {
      "needs_background": "light"
     },
     "output_type": "display_data"
    }
   ],
   "source": [
    "plt.clf()\n",
    "epochs = range(1, len(r34_real_metrics[\"train-losses\"]) + 1)\n",
    "\n",
    "fig, canvas = plt.subplots(1, 1, figsize=(14, 8))\n",
    "\n",
    "canvas.plot(epochs, r34_real_metrics[\"train-losses\"], color=(255/255, 150/255, 69/255), label=\"Train Losses\")\n",
    "canvas.plot(epochs, r34_real_metrics[\"val-losses\"], color=(255/255, 129/255, 131/255), label=\"Test Losses\")\n",
    "canvas.set_title(\"Training vs Testing Losses\")\n",
    "canvas.set_xlabel(\"Epoch\")\n",
    "canvas.set_ylabel(\"Loss\")\n",
    "canvas.set_xticks(epochs)\n",
    "canvas.legend(loc=\"upper right\")\n",
    "\n",
    "plt.savefig(\"./fig/real-r34-losses.jpg\")\n"
   ]
  },
  {
   "cell_type": "code",
   "execution_count": 48,
   "metadata": {},
   "outputs": [
    {
     "data": {
      "text/plain": [
       "<Figure size 432x288 with 0 Axes>"
      ]
     },
     "metadata": {},
     "output_type": "display_data"
    },
    {
     "data": {
      "image/png": "[encoded data removed]",
      "text/plain": [
       "<Figure size 1008x576 with 1 Axes>"
      ]
     },
     "metadata": {
      "needs_background": "light"
     },
     "output_type": "display_data"
    }
   ],
   "source": [
    "plt.clf()\n",
    "\n",
    "fig, canvas = plt.subplots(1, 1, figsize=(14, 8))\n",
    "\n",
    "canvas.plot(epochs, r34_real_metrics[\"train-accs\"], color=(255/255, 150/255, 69/255), label=\"Train Accuracies\")\n",
    "canvas.plot(epochs, r34_real_metrics[\"val-accs\"], color=(255/255, 129/255, 131/255), label=\"Test Accuracies\")\n",
    "canvas.set_title(\"Training vs Testing Accuracies\")\n",
    "canvas.set_xlabel(\"Epoch\")\n",
    "canvas.set_ylabel(\"Accuracy\")\n",
    "\n",
    "canvas.set_xticks(epochs)\n",
    "canvas.yaxis.set_major_formatter(PercentFormatter(1.0))\n",
    "canvas.legend(loc=\"upper right\")\n",
    "\n",
    "plt.savefig(\"./fig/real-r34-accs.jpg\")\n"
   ]
  },
  {
   "cell_type": "code",
   "execution_count": 49,
   "metadata": {},
   "outputs": [
    {
     "data": {
      "text/plain": [
       "[7.208946228027344,\n",
       " 5.682310730218887,\n",
       " 5.25224506855011,\n",
       " 5.807553723454475,\n",
       " 5.216785028576851,\n",
       " 5.957884721457958,\n",
       " 5.714969232678413]"
      ]
     },
     "execution_count": 49,
     "metadata": {},
     "output_type": "execute_result"
    }
   ],
   "source": [
    "r34_sketch_metrics[\"val-losses\"]"
   ]
  },
  {
   "cell_type": "code",
   "execution_count": 51,
   "metadata": {},
   "outputs": [
    {
     "data": {
      "text/plain": [
       "[0.8287752675386445,\n",
       " 0.8715814506539834,\n",
       " 0.8846611177170036,\n",
       " 0.8929845422116528,\n",
       " 0.89179548156956,\n",
       " 0.8834720570749108,\n",
       " 0.8977407847800237]"
      ]
     },
     "execution_count": 51,
     "metadata": {},
     "output_type": "execute_result"
    }
   ],
   "source": [
    "r34_sketch_metrics[\"val-accs\"]"
   ]
  },
  {
   "cell_type": "code",
   "execution_count": 50,
   "metadata": {},
   "outputs": [
    {
     "data": {
      "text/plain": [
       "[22.645012617111206,\n",
       " 24.728487253189087,\n",
       " 22.122859120368958,\n",
       " 22.83592665195465,\n",
       " 24.08143126964569,\n",
       " 23.65090835094452]"
      ]
     },
     "execution_count": 50,
     "metadata": {},
     "output_type": "execute_result"
    }
   ],
   "source": [
    "r34_real_metrics[\"val-losses\"]"
   ]
  },
  {
   "cell_type": "code",
   "execution_count": 29,
   "metadata": {},
   "outputs": [
    {
     "data": {
      "text/plain": [
       "[0.6004756242568371,\n",
       " 0.6040428061831153,\n",
       " 0.6349583828775267,\n",
       " 0.6444708680142688,\n",
       " 0.643281807372176,\n",
       " 0.6397146254458977]"
      ]
     },
     "execution_count": 29,
     "metadata": {},
     "output_type": "execute_result"
    }
   ],
   "source": [
    "r34_real_metrics[\"val-accs\"]"
   ]
  }
 ],
 "metadata": {
  "kernelspec": {
   "display_name": "Python 3",
   "language": "python",
   "name": "python3"
  },
  "language_info": {
   "codemirror_mode": {
    "name": "ipython",
    "version": 3
   },
   "file_extension": ".py",
   "mimetype": "text/x-python",
   "name": "python",
   "nbconvert_exporter": "python",
   "pygments_lexer": "ipython3",
   "version": "3.9.4"
  },
  "orig_nbformat": 4
 },
 "nbformat": 4,
 "nbformat_minor": 2
}
